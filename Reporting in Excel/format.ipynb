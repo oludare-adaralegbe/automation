{
 "cells": [
  {
   "cell_type": "code",
   "execution_count": 5,
   "id": "b1e23e3f-7002-472d-9670-43947f498f99",
   "metadata": {},
   "outputs": [],
   "source": [
    "from openpyxl import load_workbook  # Import load_workbook directly\n",
    "from openpyxl.styles import Font\n",
    "\n",
    "# Load the workbook and get the 'Report' sheet\n",
    "wb = load_workbook('report.xlsx')\n",
    "sheet = wb['Report']\n",
    "\n",
    "# Set the values of cell A1 and A2\n",
    "sheet['A1'] = 'Sales Report'\n",
    "sheet['A2'] = 'January'\n",
    "\n",
    "# Apply formatting to cell A1 and A2\n",
    "sheet['A1'].font = Font('Aptos', bold=True, size=20)\n",
    "sheet['A2'].font = Font('Aptos', bold=True, size=13)\n",
    "\n",
    "wb.save('report_january.xlsx')"
   ]
  },
  {
   "cell_type": "code",
   "execution_count": null,
   "id": "1f5d7529-c372-4505-8e25-06726908ba40",
   "metadata": {},
   "outputs": [],
   "source": []
  }
 ],
 "metadata": {
  "kernelspec": {
   "display_name": "Python 3 (ipykernel)",
   "language": "python",
   "name": "python3"
  },
  "language_info": {
   "codemirror_mode": {
    "name": "ipython",
    "version": 3
   },
   "file_extension": ".py",
   "mimetype": "text/x-python",
   "name": "python",
   "nbconvert_exporter": "python",
   "pygments_lexer": "ipython3",
   "version": "3.9.19"
  }
 },
 "nbformat": 4,
 "nbformat_minor": 5
}
