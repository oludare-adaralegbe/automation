{
 "cells": [
  {
   "cell_type": "code",
   "execution_count": 1,
   "id": "b1e23e3f-7002-472d-9670-43947f498f99",
   "metadata": {},
   "outputs": [],
   "source": [
    "from openpyxl import load_workbook  # Import load_workbook directly\n",
    "from openpyxl.utils import get_column_letter\n",
    "\n",
    "# Load the workbook and get the 'Report' sheet\n",
    "wb = load_workbook('barchart.xlsx')\n",
    "sheet = wb['Report']\n",
    "\n",
    "# Get the dimensions of the active sheet\n",
    "min_column = sheet.min_column\n",
    "max_column = sheet.max_column\n",
    "min_row = sheet.min_row\n",
    "max_row = sheet.max_row\n",
    "\n",
    "# sheet['B8'] = '=SUM(B6:B7)'\n",
    "# sheet['B8'].style = 'Currency'\n",
    "\n",
    "# Iterate through each column from min_column+1 to max_column+1\n",
    "for i in range(min_column+1, max_column+1):\n",
    "    # Get the letter corresponding to the current column index\n",
    "    letter = get_column_letter(i)\n",
    "\n",
    "    # Calculate the sum formula for the current column and insert it into the cell below the column data\n",
    "    sheet[f'{letter}{max_row+1}'] = f'=SUM({letter}{min_row+1} : {letter}{max_row})'\n",
    "\n",
    "    # Apply 'Currency' style to the cell\n",
    "    sheet[f'{letter}{max_row+1}'].style = 'Currency'\n",
    "\n",
    "wb.save('report.xlsx')"
   ]
  },
  {
   "cell_type": "code",
   "execution_count": null,
   "id": "1f5d7529-c372-4505-8e25-06726908ba40",
   "metadata": {},
   "outputs": [],
   "source": []
  }
 ],
 "metadata": {
  "kernelspec": {
   "display_name": "Python 3 (ipykernel)",
   "language": "python",
   "name": "python3"
  },
  "language_info": {
   "codemirror_mode": {
    "name": "ipython",
    "version": 3
   },
   "file_extension": ".py",
   "mimetype": "text/x-python",
   "name": "python",
   "nbconvert_exporter": "python",
   "pygments_lexer": "ipython3",
   "version": "3.9.19"
  }
 },
 "nbformat": 4,
 "nbformat_minor": 5
}
