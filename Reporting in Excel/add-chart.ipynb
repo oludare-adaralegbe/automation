{
 "cells": [
  {
   "cell_type": "code",
   "execution_count": 10,
   "id": "b1e23e3f-7002-472d-9670-43947f498f99",
   "metadata": {},
   "outputs": [
    {
     "name": "stdout",
     "output_type": "stream",
     "text": [
      "The pivot table has been successfully converted to an Excel report with a bar chart.\n"
     ]
    }
   ],
   "source": [
    "from openpyxl import load_workbook  # Import load_workbook directly\n",
    "from openpyxl.chart import BarChart, Reference\n",
    "\n",
    "# Load the workbook and get the 'Report' sheet\n",
    "wb = load_workbook('pivot_table.xlsx')\n",
    "sheet = wb['Report']\n",
    "\n",
    "# Get the dimensions of the active sheet\n",
    "min_column = sheet.min_column\n",
    "max_column = sheet.max_column\n",
    "min_row = sheet.min_row\n",
    "max_row = sheet.max_row\n",
    "\n",
    "# Create a new BarChart object\n",
    "chart = BarChart()\n",
    "\n",
    "# Define the data range for the chart\n",
    "data = Reference(sheet, min_col=min_column + 1, max_col=max_column, min_row=min_row, max_row=max_row)\n",
    "\n",
    "# Define the categories (x-axis labels) for the chart\n",
    "categories = Reference(sheet, min_col=min_column, max_col=min_column, min_row=min_row + 1, max_row=max_row)\n",
    "\n",
    "# Add data and categories to the chart\n",
    "chart.add_data(data, titles_from_data=True)\n",
    "chart.set_categories(categories)\n",
    "\n",
    "# Add the chart to the 'Report' sheet at cell B12\n",
    "sheet.add_chart(chart, \"B12\")\n",
    "\n",
    "# Set the title of the chart\n",
    "chart.title = \"Sales by Product Line\"\n",
    "\n",
    "# Apply a pre-defined style to the chart\n",
    "chart.style = 2\n",
    "\n",
    "# Save the workbook with the chart to a new Excel file named 'barchart.xlsx'\n",
    "wb.save('barchart.xlsx')\n",
    "\n",
    "# Print a success message\n",
    "print(\"The pivot table has been successfully converted to an Excel report with a bar chart.\")\n"
   ]
  },
  {
   "cell_type": "code",
   "execution_count": null,
   "id": "1f5d7529-c372-4505-8e25-06726908ba40",
   "metadata": {},
   "outputs": [],
   "source": []
  }
 ],
 "metadata": {
  "kernelspec": {
   "display_name": "Python 3 (ipykernel)",
   "language": "python",
   "name": "python3"
  },
  "language_info": {
   "codemirror_mode": {
    "name": "ipython",
    "version": 3
   },
   "file_extension": ".py",
   "mimetype": "text/x-python",
   "name": "python",
   "nbconvert_exporter": "python",
   "pygments_lexer": "ipython3",
   "version": "3.9.19"
  }
 },
 "nbformat": 4,
 "nbformat_minor": 5
}
