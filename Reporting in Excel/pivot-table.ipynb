{
 "cells": [
  {
   "cell_type": "code",
   "execution_count": 1,
   "id": "e4883179-cebe-4d7b-848e-456be8dae90f",
   "metadata": {},
   "outputs": [],
   "source": [
    "import pandas as pd\n",
    "\n",
    "# Read the Excel file 'supermarket_sales.xlsx' into a DataFrame\n",
    "df = pd.read_excel('supermarket_sales.xlsx')\n",
    "\n",
    "# Select only the 'Gender', 'Product line', and 'Total' columns from the DataFrame\n",
    "df = df[['Gender', 'Product line', 'Total']]\n",
    "\n",
    "# Create a pivot table from the DataFrame\n",
    "pivot_table = df.pivot_table(index='Gender',  # Specify 'Gender' as the index of the pivot table\n",
    "                             columns='Product line',  # Specify 'Product line' as the columns of the pivot table\n",
    "                             values='Total',  # Specify 'Total' as the values to aggregate\n",
    "                             aggfunc='sum')  # Specify the aggregation function to use ('sum' in this case)\n",
    "\n",
    "# Round the values in the pivot table to zero decimal places\n",
    "pivot_table = pivot_table.round(0)\n",
    "\n",
    "# Write the pivot table to an Excel file named 'pivot_table.xlsx'\n",
    "# The pivot table will be written to the sheet named 'Report', starting from row 4 in the Excel file\n",
    "pivot_table.to_excel(excel_writer='pivot_table.xlsx', sheet_name='Report', startrow=4)\n"
   ]
  }
 ],
 "metadata": {
  "kernelspec": {
   "display_name": "Python 3 (ipykernel)",
   "language": "python",
   "name": "python3"
  },
  "language_info": {
   "codemirror_mode": {
    "name": "ipython",
    "version": 3
   },
   "file_extension": ".py",
   "mimetype": "text/x-python",
   "name": "python",
   "nbconvert_exporter": "python",
   "pygments_lexer": "ipython3",
   "version": "3.9.19"
  }
 },
 "nbformat": 4,
 "nbformat_minor": 5
}
